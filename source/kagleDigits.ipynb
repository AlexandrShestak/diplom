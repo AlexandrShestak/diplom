{
 "cells": [
  {
   "cell_type": "code",
   "execution_count": 54,
   "metadata": {
    "collapsed": true
   },
   "outputs": [],
   "source": [
    "import csv\n",
    "import numpy as np\n",
    "from numpy import argmax\n",
    "import matplotlib.pyplot as plt\n",
    "import matplotlib.image as mpimg\n",
    "\n",
    "from keras.models import load_model\n",
    "model = load_model('modelGpu')\n",
    "\n",
    "with open('kaggleDigitsResult.csv', 'wb') as csvfile:\n",
    "    resultWriter = csv.writer(csvfile, delimiter=',')\n",
    "    resultWriter.writerow(['ImageId', 'Label'])\n",
    "    with open('kaggleDigitsResult.csv', 'wb') as csvfile:\n",
    "        resultWriter = csv.writer(csvfile, delimiter=',')\n",
    "        resultWriter.writerow(['ImageId', 'Label'])\n",
    "        index = 1\n",
    "        with open('kagleMnist.csv', 'rb') as csvfile:\n",
    "            testData = csv.reader(csvfile, delimiter=',')\n",
    "            # skip header\n",
    "            testData.next()\n",
    "            image = np.zeros((28, 28))\n",
    "            row = 0\n",
    "            for row in testData:\n",
    "                image = np.array(row).reshape(28, 28)\n",
    "                image = image.astype('float32')\n",
    "                #plt.imshow(image)\n",
    "                #plt.show()\n",
    "                prediction = model.predict_on_batch(image.reshape(1, 28, 28, 1))\n",
    "                resultWriter.writerow([index, argmax(prediction)])\n",
    "                index += 1"
   ]
  }
 ],
 "metadata": {},
 "nbformat": 4,
 "nbformat_minor": 0
}